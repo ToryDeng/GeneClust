{
 "cells": [
  {
   "cell_type": "markdown",
   "id": "42af5d72-c713-4374-bb64-c70494a284cf",
   "metadata": {
    "tags": []
   },
   "source": [
    "# 1. Import modules"
   ]
  },
  {
   "cell_type": "code",
   "execution_count": 1,
   "id": "4a2f04dd-c40e-4a9d-b1e1-3dfcbc4dee80",
   "metadata": {},
   "outputs": [],
   "source": [
    "import scanpy as sc\n",
    "from scGeneClust.utils import load_PBMC3k\n",
    "from scGeneClust import scGeneClust"
   ]
  },
  {
   "cell_type": "markdown",
   "id": "800fad03-e86f-4e72-b41d-245be13e470b",
   "metadata": {},
   "source": [
    "# 2. Load the example PBMC3k dataset\n",
    "GeneClust expects raw counts as input."
   ]
  },
  {
   "cell_type": "code",
   "execution_count": 2,
   "id": "40df6b66-9197-4a69-9fab-d94eac5c525e",
   "metadata": {},
   "outputs": [
    {
     "data": {
      "text/plain": [
       "AnnData object with n_obs × n_vars = 2700 × 32738\n",
       "    var: 'gene_ids'"
      ]
     },
     "execution_count": 2,
     "metadata": {},
     "output_type": "execute_result"
    }
   ],
   "source": [
    "pbmc3k = sc.read_h5ad(\"../data/pbmc3k_raw.h5ad\")\n",
    "pbmc3k"
   ]
  },
  {
   "cell_type": "markdown",
   "id": "2fb47b40-ec19-437a-9bb2-3ea4e3a461ab",
   "metadata": {},
   "source": [
    "# 3. Quality control"
   ]
  },
  {
   "cell_type": "code",
   "execution_count": 3,
   "id": "c5e1f3bc-22e4-4401-88e4-4aac4a285961",
   "metadata": {},
   "outputs": [],
   "source": [
    "sc.pp.filter_cells(pbmc3k, min_genes=300)\n",
    "sc.pp.filter_genes(pbmc3k, min_cells=10)\n",
    "pbmc3k.X = pbmc3k.X.toarray()"
   ]
  },
  {
   "cell_type": "code",
   "execution_count": 4,
   "id": "38b76861-f583-4d3c-ba73-92ba255b4273",
   "metadata": {},
   "outputs": [
    {
     "data": {
      "text/plain": [
       "AnnData object with n_obs × n_vars = 2685 × 11135\n",
       "    obs: 'n_genes'\n",
       "    var: 'gene_ids', 'n_cells'"
      ]
     },
     "execution_count": 4,
     "metadata": {},
     "output_type": "execute_result"
    }
   ],
   "source": [
    "pbmc3k"
   ]
  },
  {
   "cell_type": "markdown",
   "id": "49e242cc-f6de-4fe8-89b6-a55df4aaa31e",
   "metadata": {},
   "source": [
    "# Use GeneClust-fast to select features"
   ]
  },
  {
   "cell_type": "code",
   "execution_count": 5,
   "id": "ec0d31d0-cb4e-4305-881c-aa337ffbfa2c",
   "metadata": {},
   "outputs": [
    {
     "name": "stdout",
     "output_type": "stream",
     "text": [
      "INFO  | Preprocessing the data...\n",
      "INFO  | Data preprocessing finished!\n",
      "INFO  | Reducing data dimension...\n",
      "INFO  | Dimension reduction finished!\n",
      "INFO  | Clustering genes...\n",
      "INFO  | Gene clustering finished!\n"
     ]
    }
   ],
   "source": [
    "selected_genes_fast = scGeneClust(pbmc3k, version='fast', n_gene_clusters=300, random_stat=2022, verbosity=1)"
   ]
  },
  {
   "cell_type": "code",
   "execution_count": 6,
   "id": "0db2cc0b-3678-4033-a076-05b90d18168e",
   "metadata": {},
   "outputs": [
    {
     "data": {
      "text/plain": [
       "array(['A1BG', 'ABCC10', 'ABHD15', 'ABHD4', 'ABHD5', 'AC012358.8',\n",
       "       'AC013264.2', 'AC015987.2', 'AC016629.8', 'AC018816.3'],\n",
       "      dtype=object)"
      ]
     },
     "execution_count": 6,
     "metadata": {},
     "output_type": "execute_result"
    }
   ],
   "source": [
    "selected_genes_fast[:10]"
   ]
  },
  {
   "cell_type": "markdown",
   "id": "feaa6566-b0fb-4239-933f-31cf3a9bb581",
   "metadata": {},
   "source": [
    "# Use GeneClust-ps to select features"
   ]
  },
  {
   "cell_type": "code",
   "execution_count": 7,
   "id": "d7608308-3518-4886-b440-c64de9eeffe9",
   "metadata": {},
   "outputs": [
    {
     "name": "stdout",
     "output_type": "stream",
     "text": [
      "INFO  | Preprocessing the data...\n",
      "INFO  | Data preprocessing finished!\n",
      "INFO  | Reducing data dimension...\n",
      "INFO  | Dimension reduction finished!\n",
      "INFO  | Finding high-confidence cells...\n",
      "INFO  | High-confidence cell detection finished!\n",
      "INFO  | Start to find relevant genes...\n",
      "INFO  | Relevant gene detection finished!\n",
      "INFO  | Clustering genes...\n",
      "INFO  | Gene clustering finished!\n"
     ]
    }
   ],
   "source": [
    "selected_genes_ps = scGeneClust(pbmc3k, version='ps', n_cell_clusters=7, scale=100, top_percent_relevance=5, random_stat=2022, verbosity=1)"
   ]
  },
  {
   "cell_type": "code",
   "execution_count": 8,
   "id": "c15528ba-5729-471d-b860-97bd6ea133b0",
   "metadata": {},
   "outputs": [
    {
     "data": {
      "text/plain": [
       "Index(['HES4', 'ISG15', 'RPL22', 'ENO1', 'RBP7', 'AGTRAP', 'TNFRSF1B', 'EFHD2',\n",
       "       'CDA', 'RPL11'],\n",
       "      dtype='object', name='index')"
      ]
     },
     "execution_count": 8,
     "metadata": {},
     "output_type": "execute_result"
    }
   ],
   "source": [
    "selected_genes_ps[:10]"
   ]
  }
 ],
 "metadata": {
  "kernelspec": {
   "display_name": "bio",
   "language": "python",
   "name": "bio"
  },
  "language_info": {
   "codemirror_mode": {
    "name": "ipython",
    "version": 3
   },
   "file_extension": ".py",
   "mimetype": "text/x-python",
   "name": "python",
   "nbconvert_exporter": "python",
   "pygments_lexer": "ipython3",
   "version": "3.9.12"
  }
 },
 "nbformat": 4,
 "nbformat_minor": 5
}
